{
    "metadata": {
        "kernelspec": {
            "name": "SQL",
            "display_name": "SQL",
            "language": "sql"
        },
        "language_info": {
            "name": "sql",
            "version": ""
        }
    },
    "nbformat_minor": 2,
    "nbformat": 4,
    "cells": [
        {
            "cell_type": "markdown",
            "source": "# The impact of DONE Tokens in SQL Server Loops\r\nYet another reason **not** to use loops in SQL Server, but if you have to, at least avoid the following.",
            "metadata": {}
        },
        {
            "cell_type": "code",
            "source": "--Clear Wait stats\r\nDBCC SQLPERF(\"sys.dm_os_wait_stats\",CLEAR) WITH NO_INFOMSGS;  ",
            "metadata": {},
            "outputs": [
                {
                    "output_type": "display_data",
                    "data": {
                        "text/html": "Commands completed successfully."
                    },
                    "metadata": {}
                },
                {
                    "output_type": "display_data",
                    "data": {
                        "text/html": "Total execution time: 00:00:00.024"
                    },
                    "metadata": {}
                }
            ],
            "execution_count": 8
        },
        {
            "cell_type": "markdown",
            "source": "This is a trivial WHILE loop that does basically nothing except running 5 million times",
            "metadata": {}
        },
        {
            "cell_type": "code",
            "source": "DECLARE\r\n    @loop_var int = 0,\r\n    @a_string varchar(8000);\r\n\r\n\r\nWHILE @loop_var < 5000000\r\nBEGIN\r\n    SET @a_string = 'A';\r\n    SET @loop_var = @loop_var + 1;\r\nEND;",
            "metadata": {},
            "outputs": [
                {
                    "output_type": "display_data",
                    "data": {
                        "text/html": "Commands completed successfully."
                    },
                    "metadata": {}
                },
                {
                    "output_type": "display_data",
                    "data": {
                        "text/html": "Total execution time: 00:00:31.519"
                    },
                    "metadata": {}
                }
            ],
            "execution_count": 9
        },
        {
            "cell_type": "markdown",
            "source": "As you can see, even if it isn't doing basically anything, it takes more than a minute to just go through the loop.<br>\r\nTurns out that's because for each loop completion the server sends to the client a [*DONE* token](https://docs.microsoft.com/en-us/openspecs/windows_protocols/ms-tds/3c06f110-98bd-4d5b-b836-b1ba66452cb7) to signal that a SQL Statement has been completed; it does it **15 million times** (one for each statement, WHILE and the two SET(s), 5 Million times each), causing the client to be overwhelmed and SQL Server to wait on the client (*ASYNC_NETWORK_IO*)",
            "metadata": {}
        },
        {
            "cell_type": "code",
            "source": "DECLARE\r\n    @loop_var int = 0,\r\n    @a_string varchar(8000);\r\n\r\n\r\nWHILE @loop_var < 5000000\r\nBEGIN\r\n    SET @a_string = 'A';\r\n    SET @loop_var = @loop_var + 1;\r\nEND;WITH [Waits] \r\nAS (SELECT wait_type, wait_time_ms/ 1000.0 AS [WaitS],\r\n          (wait_time_ms - signal_wait_time_ms) / 1000.0 AS [ResourceS],\r\n           signal_wait_time_ms / 1000.0 AS [SignalS],\r\n           waiting_tasks_count AS [WaitCount],\r\n           100.0 *  wait_time_ms / SUM (wait_time_ms) OVER() AS [Percentage],\r\n           ROW_NUMBER() OVER(ORDER BY wait_time_ms DESC) AS [RowNum]\r\n    FROM sys.dm_os_wait_stats WITH (NOLOCK)\r\n    WHERE [wait_type] NOT IN (\r\n        N'BROKER_EVENTHANDLER', N'BROKER_RECEIVE_WAITFOR', N'BROKER_TASK_STOP',\r\n\t\tN'BROKER_TO_FLUSH', N'BROKER_TRANSMITTER', N'CHECKPOINT_QUEUE',\r\n        N'CHKPT', N'CLR_AUTO_EVENT', N'CLR_MANUAL_EVENT', N'CLR_SEMAPHORE',\r\n        N'DBMIRROR_DBM_EVENT', N'DBMIRROR_EVENTS_QUEUE', N'DBMIRROR_WORKER_QUEUE',\r\n\t\tN'DBMIRRORING_CMD', N'DIRTY_PAGE_POLL', N'DISPATCHER_QUEUE_SEMAPHORE',\r\n        N'EXECSYNC', N'FSAGENT', N'FT_IFTS_SCHEDULER_IDLE_WAIT', N'FT_IFTSHC_MUTEX',\r\n        N'HADR_CLUSAPI_CALL', N'HADR_FILESTREAM_IOMGR_IOCOMPLETION', N'HADR_LOGCAPTURE_WAIT', \r\n\t\tN'HADR_NOTIFICATION_DEQUEUE', N'HADR_TIMER_TASK', N'HADR_WORK_QUEUE',\r\n        N'KSOURCE_WAKEUP', N'LAZYWRITER_SLEEP', N'LOGMGR_QUEUE', N'ONDEMAND_TASK_QUEUE',\r\n        N'PWAIT_ALL_COMPONENTS_INITIALIZED', \r\n\t\tN'PREEMPTIVE_OS_AUTHENTICATIONOPS', N'PREEMPTIVE_OS_CREATEFILE', N'PREEMPTIVE_OS_GENERICOPS',\r\n\t\tN'PREEMPTIVE_OS_LIBRARYOPS', N'PREEMPTIVE_OS_QUERYREGISTRY',\r\n\t\tN'PREEMPTIVE_HADR_LEASE_MECHANISM', N'PREEMPTIVE_SP_SERVER_DIAGNOSTICS',\r\n\t\tN'QDS_PERSIST_TASK_MAIN_LOOP_SLEEP',\r\n        N'QDS_CLEANUP_STALE_QUERIES_TASK_MAIN_LOOP_SLEEP', N'QDS_SHUTDOWN_QUEUE', N'REQUEST_FOR_DEADLOCK_SEARCH',\r\n\t\tN'RESOURCE_QUEUE', N'SERVER_IDLE_CHECK', N'SLEEP_BPOOL_FLUSH', N'SLEEP_DBSTARTUP',\r\n\t\tN'SLEEP_DCOMSTARTUP', N'SLEEP_MASTERDBREADY', N'SLEEP_MASTERMDREADY',\r\n        N'SLEEP_MASTERUPGRADED', N'SLEEP_MSDBSTARTUP', N'SLEEP_SYSTEMTASK', N'SLEEP_TASK',\r\n        N'SLEEP_TEMPDBSTARTUP', N'SNI_HTTP_ACCEPT', N'SP_SERVER_DIAGNOSTICS_SLEEP',\r\n\t\tN'SQLTRACE_BUFFER_FLUSH', N'SQLTRACE_INCREMENTAL_FLUSH_SLEEP', N'SQLTRACE_WAIT_ENTRIES',\r\n\t\tN'WAIT_FOR_RESULTS', N'WAITFOR', N'WAITFOR_TASKSHUTDOWN', N'WAIT_XTP_HOST_WAIT',\r\n\t\tN'WAIT_XTP_OFFLINE_CKPT_NEW_LOG', N'WAIT_XTP_CKPT_CLOSE', N'XE_DISPATCHER_JOIN',\r\n        N'XE_DISPATCHER_WAIT', N'XE_TIMER_EVENT',N'SOS_WORK_DISPATCHER')\r\n    AND waiting_tasks_count > 0)\r\nSELECT\r\n    MAX (W1.wait_type) AS [WaitType],\r\n\tCAST (MAX (W1.Percentage) AS DECIMAL (5,2)) AS [Wait Percentage],\r\n\tCAST ((MAX (W1.WaitS) / MAX (W1.WaitCount)) AS DECIMAL (16,4)) AS [AvgWait_Sec],\r\n    CAST ((MAX (W1.ResourceS) / MAX (W1.WaitCount)) AS DECIMAL (16,4)) AS [AvgRes_Sec],\r\n    CAST ((MAX (W1.SignalS) / MAX (W1.WaitCount)) AS DECIMAL (16,4)) AS [AvgSig_Sec], \r\n    CAST (MAX (W1.WaitS) AS DECIMAL (16,2)) AS [Wait_Sec],\r\n    CAST (MAX (W1.ResourceS) AS DECIMAL (16,2)) AS [Resource_Sec],\r\n    CAST (MAX (W1.SignalS) AS DECIMAL (16,2)) AS [Signal_Sec],\r\n    MAX (W1.WaitCount) AS [Wait Count],\r\n\tCAST (N'https://www.sqlskills.com/help/waits/' + W1.wait_type AS XML) AS [Help/Info URL]\r\nFROM Waits AS W1\r\nINNER JOIN Waits AS W2\r\nON W2.RowNum <= W1.RowNum\r\nGROUP BY W1.RowNum, W1.wait_type\r\nHAVING SUM (W2.Percentage) - MAX (W1.Percentage) < 99 -- percentage threshold\r\nOPTION (RECOMPILE);\r\n",
            "metadata": {},
            "outputs": [
                {
                    "output_type": "display_data",
                    "data": {
                        "text/html": "Commands completed successfully."
                    },
                    "metadata": {}
                },
                {
                    "output_type": "display_data",
                    "data": {
                        "text/html": "Total execution time: 00:00:30.718"
                    },
                    "metadata": {}
                },
                {
                    "output_type": "execute_result",
                    "metadata": {},
                    "execution_count": 10,
                    "data": {
                        "application/vnd.dataresource+json": {
                            "schema": {
                                "fields": [
                                    {
                                        "name": "WaitType"
                                    },
                                    {
                                        "name": "Wait Percentage"
                                    },
                                    {
                                        "name": "AvgWait_Sec"
                                    },
                                    {
                                        "name": "AvgRes_Sec"
                                    },
                                    {
                                        "name": "AvgSig_Sec"
                                    },
                                    {
                                        "name": "Wait_Sec"
                                    },
                                    {
                                        "name": "Resource_Sec"
                                    },
                                    {
                                        "name": "Signal_Sec"
                                    },
                                    {
                                        "name": "Wait Count"
                                    },
                                    {
                                        "name": "Help/Info URL"
                                    }
                                ]
                            },
                            "data": [
                                {
                                    "0": "ASYNC_NETWORK_IO",
                                    "1": "99,91",
                                    "2": "0,0011",
                                    "3": "0,0011",
                                    "4": "0,0000",
                                    "5": "51,86",
                                    "6": "50,70",
                                    "7": "1,16",
                                    "8": "47297",
                                    "9": "https://www.sqlskills.com/help/waits/ASYNC_NETWORK_IO"
                                }
                            ]
                        },
                        "text/html": "<table><tr><th>WaitType</th><th>Wait Percentage</th><th>AvgWait_Sec</th><th>AvgRes_Sec</th><th>AvgSig_Sec</th><th>Wait_Sec</th><th>Resource_Sec</th><th>Signal_Sec</th><th>Wait Count</th><th>Help/Info URL</th></tr><tr><td>ASYNC_NETWORK_IO</td><td>99,91</td><td>0,0011</td><td>0,0011</td><td>0,0000</td><td>51,86</td><td>50,70</td><td>1,16</td><td>47297</td><td>https://www.sqlskills.com/help/waits/ASYNC_NETWORK_IO</td></tr></table>"
                    }
                }
            ],
            "execution_count": 10
        },
        {
            "cell_type": "markdown",
            "source": "**SET NOCOUNT ON** could help, the [documentation page](https://docs.microsoft.com/en-us/sql/t-sql/statements/set-nocount-transact-sql?view=sql-server-2017#remarks) says:\r\n> SET NOCOUNT ON prevents the sending of DONE_IN_PROC messages to the client for each statement in a stored procedure. For stored procedures that contain several statements that do not return much actual data, or for procedures that contain Transact-SQL loops, setting SET NOCOUNT to ON can provide a significant performance boost, because network traffic is greatly reduced.\r\n\r\nThat's what we need, but it appears that it will work only if the code is inside a procedure, let's try:",
            "metadata": {}
        },
        {
            "cell_type": "code",
            "source": "SET NOCOUNT ON;\r\nDECLARE\r\n    @loop_var int = 0,\r\n    @a_string varchar(8000);\r\n\r\n\r\nWHILE @loop_var < 5000000\r\nBEGIN\r\n    SET @a_string = 'A';\r\n    SET @loop_var = @loop_var + 1;\r\nEND;",
            "metadata": {},
            "outputs": [
                {
                    "output_type": "display_data",
                    "data": {
                        "text/html": "Commands completed successfully."
                    },
                    "metadata": {}
                },
                {
                    "output_type": "display_data",
                    "data": {
                        "text/html": "Total execution time: 00:00:30.777"
                    },
                    "metadata": {}
                }
            ],
            "execution_count": 11
        },
        {
            "cell_type": "markdown",
            "source": "Yep, still slow, let's create a temporary stored procedure and see if it's what we need:",
            "metadata": {}
        },
        {
            "cell_type": "code",
            "source": "--Clear Wait stats\r\nDBCC SQLPERF(\"sys.dm_os_wait_stats\",CLEAR) WITH NO_INFOMSGS;  ",
            "metadata": {},
            "outputs": [
                {
                    "output_type": "display_data",
                    "data": {
                        "text/html": "Commands completed successfully."
                    },
                    "metadata": {}
                },
                {
                    "output_type": "display_data",
                    "data": {
                        "text/html": "Total execution time: 00:00:00.025"
                    },
                    "metadata": {}
                }
            ],
            "execution_count": 12
        },
        {
            "cell_type": "code",
            "source": "CREATE PROCEDURE #P AS\r\nBEGIN\r\n    SET NOCOUNT ON;\r\n    DECLARE\r\n        @loop_var int = 0,\r\n        @a_string varchar(8000);\r\n\r\n\r\n    WHILE @loop_var < 5000000\r\n    BEGIN\r\n        SET @a_string = 'A';\r\n        SET @loop_var = @loop_var + 1;\r\n    END;\r\nEND\r\nGO \r\n\r\nEXECUTE dbo.#P;\r\nGO\r\n\r\nDROP PROCEDURE #P;",
            "metadata": {},
            "outputs": [
                {
                    "output_type": "display_data",
                    "data": {
                        "text/html": "Commands completed successfully."
                    },
                    "metadata": {}
                },
                {
                    "output_type": "display_data",
                    "data": {
                        "text/html": "Commands completed successfully."
                    },
                    "metadata": {}
                },
                {
                    "output_type": "display_data",
                    "data": {
                        "text/html": "Commands completed successfully."
                    },
                    "metadata": {}
                },
                {
                    "output_type": "display_data",
                    "data": {
                        "text/html": "Total execution time: 00:00:03.695"
                    },
                    "metadata": {}
                }
            ],
            "execution_count": 13
        },
        {
            "cell_type": "markdown",
            "source": "What if I don't want to create a procedure? The trick works when using dynamic SQL too:",
            "metadata": {}
        },
        {
            "cell_type": "code",
            "source": "DECLARE @SQL nvarchar(max);\r\nSET @SQL = N'SET NOCOUNT ON;\r\n    DECLARE\r\n        @loop_var int = 0,\r\n        @a_string varchar(8000);\r\n\r\n\r\n    WHILE @loop_var < 5000000\r\n    BEGIN\r\n        SET @a_string = ''A'';\r\n        SET @loop_var = @loop_var + 1;\r\n    END;'\r\n\r\nEXEC sp_executesql @SQL",
            "metadata": {},
            "outputs": [
                {
                    "output_type": "display_data",
                    "data": {
                        "text/html": "Commands completed successfully."
                    },
                    "metadata": {}
                },
                {
                    "output_type": "display_data",
                    "data": {
                        "text/html": "Total execution time: 00:00:03.686"
                    },
                    "metadata": {}
                }
            ],
            "execution_count": 14
        },
        {
            "cell_type": "code",
            "source": "DECLARE\r\n    @loop_var int = 0,\r\n    @a_string varchar(8000);\r\n\r\n\r\nWHILE @loop_var < 5000000\r\nBEGIN\r\n    SET @a_string = 'A';\r\n    SET @loop_var = @loop_var + 1;\r\nEND;WITH [Waits] \r\nAS (SELECT wait_type, wait_time_ms/ 1000.0 AS [WaitS],\r\n          (wait_time_ms - signal_wait_time_ms) / 1000.0 AS [ResourceS],\r\n           signal_wait_time_ms / 1000.0 AS [SignalS],\r\n           waiting_tasks_count AS [WaitCount],\r\n           100.0 *  wait_time_ms / SUM (wait_time_ms) OVER() AS [Percentage],\r\n           ROW_NUMBER() OVER(ORDER BY wait_time_ms DESC) AS [RowNum]\r\n    FROM sys.dm_os_wait_stats WITH (NOLOCK)\r\n    WHERE [wait_type] NOT IN (\r\n        N'BROKER_EVENTHANDLER', N'BROKER_RECEIVE_WAITFOR', N'BROKER_TASK_STOP',\r\n\t\tN'BROKER_TO_FLUSH', N'BROKER_TRANSMITTER', N'CHECKPOINT_QUEUE',\r\n        N'CHKPT', N'CLR_AUTO_EVENT', N'CLR_MANUAL_EVENT', N'CLR_SEMAPHORE',\r\n        N'DBMIRROR_DBM_EVENT', N'DBMIRROR_EVENTS_QUEUE', N'DBMIRROR_WORKER_QUEUE',\r\n\t\tN'DBMIRRORING_CMD', N'DIRTY_PAGE_POLL', N'DISPATCHER_QUEUE_SEMAPHORE',\r\n        N'EXECSYNC', N'FSAGENT', N'FT_IFTS_SCHEDULER_IDLE_WAIT', N'FT_IFTSHC_MUTEX',\r\n        N'HADR_CLUSAPI_CALL', N'HADR_FILESTREAM_IOMGR_IOCOMPLETION', N'HADR_LOGCAPTURE_WAIT', \r\n\t\tN'HADR_NOTIFICATION_DEQUEUE', N'HADR_TIMER_TASK', N'HADR_WORK_QUEUE',\r\n        N'KSOURCE_WAKEUP', N'LAZYWRITER_SLEEP', N'LOGMGR_QUEUE', N'ONDEMAND_TASK_QUEUE',\r\n        N'PWAIT_ALL_COMPONENTS_INITIALIZED', \r\n\t\tN'PREEMPTIVE_OS_AUTHENTICATIONOPS', N'PREEMPTIVE_OS_CREATEFILE', N'PREEMPTIVE_OS_GENERICOPS',\r\n\t\tN'PREEMPTIVE_OS_LIBRARYOPS', N'PREEMPTIVE_OS_QUERYREGISTRY',\r\n\t\tN'PREEMPTIVE_HADR_LEASE_MECHANISM', N'PREEMPTIVE_SP_SERVER_DIAGNOSTICS',\r\n\t\tN'QDS_PERSIST_TASK_MAIN_LOOP_SLEEP',\r\n        N'QDS_CLEANUP_STALE_QUERIES_TASK_MAIN_LOOP_SLEEP', N'QDS_SHUTDOWN_QUEUE', N'REQUEST_FOR_DEADLOCK_SEARCH',\r\n\t\tN'RESOURCE_QUEUE', N'SERVER_IDLE_CHECK', N'SLEEP_BPOOL_FLUSH', N'SLEEP_DBSTARTUP',\r\n\t\tN'SLEEP_DCOMSTARTUP', N'SLEEP_MASTERDBREADY', N'SLEEP_MASTERMDREADY',\r\n        N'SLEEP_MASTERUPGRADED', N'SLEEP_MSDBSTARTUP', N'SLEEP_SYSTEMTASK', N'SLEEP_TASK',\r\n        N'SLEEP_TEMPDBSTARTUP', N'SNI_HTTP_ACCEPT', N'SP_SERVER_DIAGNOSTICS_SLEEP',\r\n\t\tN'SQLTRACE_BUFFER_FLUSH', N'SQLTRACE_INCREMENTAL_FLUSH_SLEEP', N'SQLTRACE_WAIT_ENTRIES',\r\n\t\tN'WAIT_FOR_RESULTS', N'WAITFOR', N'WAITFOR_TASKSHUTDOWN', N'WAIT_XTP_HOST_WAIT',\r\n\t\tN'WAIT_XTP_OFFLINE_CKPT_NEW_LOG', N'WAIT_XTP_CKPT_CLOSE', N'XE_DISPATCHER_JOIN',\r\n        N'XE_DISPATCHER_WAIT', N'XE_TIMER_EVENT',N'SOS_WORK_DISPATCHER')\r\n    AND waiting_tasks_count > 0)\r\nSELECT\r\n    MAX (W1.wait_type) AS [WaitType],\r\n\tCAST (MAX (W1.Percentage) AS DECIMAL (5,2)) AS [Wait Percentage],\r\n\tCAST ((MAX (W1.WaitS) / MAX (W1.WaitCount)) AS DECIMAL (16,4)) AS [AvgWait_Sec],\r\n    CAST ((MAX (W1.ResourceS) / MAX (W1.WaitCount)) AS DECIMAL (16,4)) AS [AvgRes_Sec],\r\n    CAST ((MAX (W1.SignalS) / MAX (W1.WaitCount)) AS DECIMAL (16,4)) AS [AvgSig_Sec], \r\n    CAST (MAX (W1.WaitS) AS DECIMAL (16,2)) AS [Wait_Sec],\r\n    CAST (MAX (W1.ResourceS) AS DECIMAL (16,2)) AS [Resource_Sec],\r\n    CAST (MAX (W1.SignalS) AS DECIMAL (16,2)) AS [Signal_Sec],\r\n    MAX (W1.WaitCount) AS [Wait Count],\r\n\tCAST (N'https://www.sqlskills.com/help/waits/' + W1.wait_type AS XML) AS [Help/Info URL]\r\nFROM Waits AS W1\r\nINNER JOIN Waits AS W2\r\nON W2.RowNum <= W1.RowNum\r\nGROUP BY W1.RowNum, W1.wait_type\r\nHAVING SUM (W2.Percentage) - MAX (W1.Percentage) < 99 -- percentage threshold\r\nOPTION (RECOMPILE);\r\n",
            "metadata": {},
            "outputs": [
                {
                    "output_type": "display_data",
                    "data": {
                        "text/html": "Commands completed successfully."
                    },
                    "metadata": {}
                },
                {
                    "output_type": "display_data",
                    "data": {
                        "text/html": "Total execution time: 00:00:30.403"
                    },
                    "metadata": {}
                },
                {
                    "output_type": "execute_result",
                    "metadata": {},
                    "execution_count": 15,
                    "data": {
                        "application/vnd.dataresource+json": {
                            "schema": {
                                "fields": [
                                    {
                                        "name": "WaitType"
                                    },
                                    {
                                        "name": "Wait Percentage"
                                    },
                                    {
                                        "name": "AvgWait_Sec"
                                    },
                                    {
                                        "name": "AvgRes_Sec"
                                    },
                                    {
                                        "name": "AvgSig_Sec"
                                    },
                                    {
                                        "name": "Wait_Sec"
                                    },
                                    {
                                        "name": "Resource_Sec"
                                    },
                                    {
                                        "name": "Signal_Sec"
                                    },
                                    {
                                        "name": "Wait Count"
                                    },
                                    {
                                        "name": "Help/Info URL"
                                    }
                                ]
                            },
                            "data": [
                                {
                                    "0": "ASYNC_NETWORK_IO",
                                    "1": "99,45",
                                    "2": "0,0011",
                                    "3": "0,0010",
                                    "4": "0,0000",
                                    "5": "25,06",
                                    "6": "24,46",
                                    "7": "0,61",
                                    "8": "23516",
                                    "9": "https://www.sqlskills.com/help/waits/ASYNC_NETWORK_IO"
                                }
                            ]
                        },
                        "text/html": "<table><tr><th>WaitType</th><th>Wait Percentage</th><th>AvgWait_Sec</th><th>AvgRes_Sec</th><th>AvgSig_Sec</th><th>Wait_Sec</th><th>Resource_Sec</th><th>Signal_Sec</th><th>Wait Count</th><th>Help/Info URL</th></tr><tr><td>ASYNC_NETWORK_IO</td><td>99,45</td><td>0,0011</td><td>0,0010</td><td>0,0000</td><td>25,06</td><td>24,46</td><td>0,61</td><td>23516</td><td>https://www.sqlskills.com/help/waits/ASYNC_NETWORK_IO</td></tr></table>"
                    }
                }
            ],
            "execution_count": 15
        }
    ]
}